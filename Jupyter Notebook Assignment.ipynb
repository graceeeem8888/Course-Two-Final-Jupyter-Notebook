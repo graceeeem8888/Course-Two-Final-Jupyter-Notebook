{
  "metadata": {
    "language_info": {
      "codemirror_mode": {
        "name": "python",
        "version": 3
      },
      "file_extension": ".py",
      "mimetype": "text/x-python",
      "name": "python",
      "nbconvert_exporter": "python",
      "pygments_lexer": "ipython3",
      "version": "3.8"
    },
    "kernelspec": {
      "name": "python",
      "display_name": "Pyolite",
      "language": "python"
    }
  },
  "nbformat_minor": 4,
  "nbformat": 4,
  "cells": [
    {
      "cell_type": "markdown",
      "source": "<h1> My Jupyter Notebook on IBM Watson Studio <h1>",
      "metadata": {}
    },
    {
      "cell_type": "markdown",
      "source": "<b> Grace Moran </b>\n<br>\nMy current role is in data analytics and insights. ",
      "metadata": {}
    },
    {
      "cell_type": "markdown",
      "source": "<i> I am interested in data science because I enjoy using data to inform storytelling and create impactful strategies. <i>",
      "metadata": {}
    },
    {
      "cell_type": "markdown",
      "source": "<h3> Below, the code is executed by running a mathmatical equation of 1+1 to provide the final result of 2 <h3>",
      "metadata": {}
    },
    {
      "cell_type": "code",
      "source": "1+1",
      "metadata": {
        "trusted": true
      },
      "execution_count": 4,
      "outputs": [
        {
          "execution_count": 4,
          "output_type": "execute_result",
          "data": {
            "text/plain": "2"
          },
          "metadata": {}
        }
      ]
    },
    {
      "cell_type": "markdown",
      "source": "<li> Bullet point 1\n<li> Bullet point 2\n<li> Bullet point 3\n    \n<strike> Strikethrough text <strike>\n    \n<blockquote> <b> \"Quotes Sample <b> <blockquote>",
      "metadata": {}
    },
    {
      "cell_type": "code",
      "source": "",
      "metadata": {},
      "execution_count": null,
      "outputs": []
    }
  ]
}